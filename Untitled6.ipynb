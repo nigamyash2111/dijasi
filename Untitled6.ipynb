{
 "cells": [
  {
   "cell_type": "code",
   "execution_count": 29,
   "id": "25ca5ed1-190c-48f7-993c-c81732aa0d57",
   "metadata": {},
   "outputs": [],
   "source": [
    "def reverser(y):\n",
    "    x=y[::-1]\n",
    "    return x"
   ]
  },
  {
   "cell_type": "code",
   "execution_count": 31,
   "id": "b0d2d40a-44c6-4d98-a469-95f332094c7a",
   "metadata": {},
   "outputs": [
    {
     "name": "stdin",
     "output_type": "stream",
     "text": [
      "Enter the string:  yash nigam\n"
     ]
    },
    {
     "name": "stdout",
     "output_type": "stream",
     "text": [
      "magin hsay\n"
     ]
    }
   ],
   "source": [
    "y = input(\"Enter the string: \")\n",
    "z = reverser(y)\n",
    "print(z)"
   ]
  },
  {
   "cell_type": "code",
   "execution_count": null,
   "id": "2844f8c1-aedd-4b80-b361-62889e23807d",
   "metadata": {},
   "outputs": [],
   "source": []
  },
  {
   "cell_type": "code",
   "execution_count": null,
   "id": "c2d9f0ab-399b-4594-8110-a79dc4f3604b",
   "metadata": {},
   "outputs": [],
   "source": []
  },
  {
   "cell_type": "code",
   "execution_count": null,
   "id": "1c5e1e2f-fe3b-4ab0-ac29-80a48e08c0ab",
   "metadata": {},
   "outputs": [],
   "source": []
  }
 ],
 "metadata": {
  "kernelspec": {
   "display_name": "Python 3 (ipykernel)",
   "language": "python",
   "name": "python3"
  },
  "language_info": {
   "codemirror_mode": {
    "name": "ipython",
    "version": 3
   },
   "file_extension": ".py",
   "mimetype": "text/x-python",
   "name": "python",
   "nbconvert_exporter": "python",
   "pygments_lexer": "ipython3",
   "version": "3.10.8"
  }
 },
 "nbformat": 4,
 "nbformat_minor": 5
}
